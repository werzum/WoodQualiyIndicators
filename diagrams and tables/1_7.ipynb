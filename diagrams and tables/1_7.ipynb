{
 "cells": [
  {
   "cell_type": "code",
   "execution_count": 1,
   "metadata": {},
   "outputs": [],
   "source": [
    "# Loading data\n",
    "import csv\n",
    "import pandas as pd\n",
    "import numpy as np\n",
    "import helper_functions\n",
    "\n",
    "from tabulate import tabulate\n",
    "\n",
    "table = helper_functions.import_file(\"1_7.csv\")"
   ]
  },
  {
   "cell_type": "code",
   "execution_count": 2,
   "metadata": {},
   "outputs": [
    {
     "data": {
      "text/html": [
       "<table>\n",
       "<thead>\n",
       "<tr><th>Management     </th><th style=\"text-align: right;\">  Count</th></tr>\n",
       "</thead>\n",
       "<tbody>\n",
       "<tr><td>Thinning       </td><td style=\"text-align: right;\">     75</td></tr>\n",
       "<tr><td>Clear-Cut      </td><td style=\"text-align: right;\">     67</td></tr>\n",
       "<tr><td>Selection-Cut  </td><td style=\"text-align: right;\">     42</td></tr>\n",
       "<tr><td>Shelterwood-Cut</td><td style=\"text-align: right;\">     16</td></tr>\n",
       "<tr><td>Salvagelogging </td><td style=\"text-align: right;\">     14</td></tr>\n",
       "</tbody>\n",
       "</table>"
      ],
      "text/plain": [
       "'<table>\\n<thead>\\n<tr><th>Management     </th><th style=\"text-align: right;\">  Count</th></tr>\\n</thead>\\n<tbody>\\n<tr><td>Thinning       </td><td style=\"text-align: right;\">     75</td></tr>\\n<tr><td>Clear-Cut      </td><td style=\"text-align: right;\">     67</td></tr>\\n<tr><td>Selection-Cut  </td><td style=\"text-align: right;\">     42</td></tr>\\n<tr><td>Shelterwood-Cut</td><td style=\"text-align: right;\">     16</td></tr>\\n<tr><td>Salvagelogging </td><td style=\"text-align: right;\">     14</td></tr>\\n</tbody>\\n</table>'"
      ]
     },
     "execution_count": 2,
     "metadata": {},
     "output_type": "execute_result"
    }
   ],
   "source": [
    "tabulate(table, headers='keys', tablefmt='html', showindex=False)"
   ]
  },
  {
   "cell_type": "code",
   "execution_count": 3,
   "metadata": {},
   "outputs": [
    {
     "data": {
      "text/html": [
       "<table>\n",
       "<thead>\n",
       "<tr><th style=\"text-align: right;\">  Thinning</th><th style=\"text-align: right;\">  Clear-Cut</th><th style=\"text-align: right;\">  Selection-Cut</th><th style=\"text-align: right;\">  Shelterwood-Cut</th><th style=\"text-align: right;\">  Salvagelogging</th></tr>\n",
       "</thead>\n",
       "<tbody>\n",
       "<tr><td style=\"text-align: right;\">        75</td><td style=\"text-align: right;\">         67</td><td style=\"text-align: right;\">             42</td><td style=\"text-align: right;\">               16</td><td style=\"text-align: right;\">              14</td></tr>\n",
       "</tbody>\n",
       "</table>"
      ],
      "text/plain": [
       "'<table>\\n<thead>\\n<tr><th style=\"text-align: right;\">  Thinning</th><th style=\"text-align: right;\">  Clear-Cut</th><th style=\"text-align: right;\">  Selection-Cut</th><th style=\"text-align: right;\">  Shelterwood-Cut</th><th style=\"text-align: right;\">  Salvagelogging</th></tr>\\n</thead>\\n<tbody>\\n<tr><td style=\"text-align: right;\">        75</td><td style=\"text-align: right;\">         67</td><td style=\"text-align: right;\">             42</td><td style=\"text-align: right;\">               16</td><td style=\"text-align: right;\">              14</td></tr>\\n</tbody>\\n</table>'"
      ]
     },
     "execution_count": 3,
     "metadata": {},
     "output_type": "execute_result"
    }
   ],
   "source": [
    "table = table.set_index(\"Management\")\n",
    "table = table.transpose()\n",
    "#table_1_1[\"Year\"] = [\"Studien Pro Jahr\"]\n",
    "\n",
    "tabulate(table, headers='keys', tablefmt='html', showindex=False)"
   ]
  }
 ],
 "metadata": {
  "kernelspec": {
   "display_name": "wood_kernel",
   "language": "python",
   "name": "wood_kernel"
  },
  "language_info": {
   "codemirror_mode": {
    "name": "ipython",
    "version": 3
   },
   "file_extension": ".py",
   "mimetype": "text/x-python",
   "name": "python",
   "nbconvert_exporter": "python",
   "pygments_lexer": "ipython3",
   "version": "3.10.4"
  },
  "orig_nbformat": 4,
  "vscode": {
   "interpreter": {
    "hash": "dd3223f6783bc8db6765a00e8d3053e12192b0fa65be1292c94e5420531c1b2c"
   }
  }
 },
 "nbformat": 4,
 "nbformat_minor": 2
}
