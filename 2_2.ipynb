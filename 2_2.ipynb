{
 "cells": [
  {
   "cell_type": "code",
   "execution_count": 67,
   "metadata": {},
   "outputs": [],
   "source": [
    "# Loading data\n",
    "import csv\n",
    "import pandas as pd\n",
    "import numpy as np\n",
    "import seaborn as sns\n",
    "import matplotlib.pyplot as plt\n",
    "import helper_functions\n",
    "\n",
    "table_path = \"diagrams and tables/\"\n",
    "\n",
    "table_1_7 = helper_functions.import_file(table_path+\"/1_7.csv\")\n",
    "rohdaten = helper_functions.import_file(\"Rohdaten.csv\")\n",
    "rohdaten.dropna(inplace=True)"
   ]
  },
  {
   "cell_type": "markdown",
   "metadata": {},
   "source": [
    "https://www.statstest.com/factorial-anova/\n",
    "\n",
    "https://stats.oarc.ucla.edu/stata/dae/ordered-logistic-regression/\n",
    "\n",
    "https://stats.oarc.ucla.edu/other/mult-pkg/whatstat/\n",
    "\n",
    "https://www.researchgate.net/post/How-do-I-check-for-statistical-significance-between-3-groups-using-percentage-values-determined-from-categorical-data\n",
    "-> use Chi Square pairwise\n"
   ]
  },
  {
   "cell_type": "code",
   "execution_count": 68,
   "metadata": {},
   "outputs": [],
   "source": [
    "chi_test_data = rohdaten[[\"Chainsaw\",\"Feller Buncher\",\"Excavator\",\"Region\"]]"
   ]
  },
  {
   "cell_type": "code",
   "execution_count": 85,
   "metadata": {},
   "outputs": [],
   "source": [
    "regions = chi_test_data[\"Region\"].unique()\n",
    "machines = [\"Chainsaw\",\"Feller Buncher\",\"Excavator\"]\n",
    "machine_region_dict = {}\n",
    "\n",
    "# Get the sums of each machine per region\n",
    "for region in regions:\n",
    "    sum_per_machine = chi_test_data.loc[chi_test_data[\"Region\"]==region,machines].sum()\n",
    "    #print(region,\" :\",sum_per_machine)\n",
    "    machine_region_dict[region] = sum_per_machine"
   ]
  },
  {
   "cell_type": "code",
   "execution_count": 72,
   "metadata": {},
   "outputs": [
    {
     "name": "stdout",
     "output_type": "stream",
     "text": [
      "Middle East Central Asia were too small\n",
      "Middle East Oceania were too small\n",
      "Oceania Central Asia were too small\n"
     ]
    }
   ],
   "source": [
    "from scipy.stats import chisquare\n",
    "from scipy.stats import chi2_contingency\n",
    "import itertools\n",
    "\n",
    "# Chi Square Test - pairwise comparison of each region, is there a significant difference between them?\n",
    "machine_df = pd.DataFrame(index=regions,columns=regions)\n",
    "for region_a, region_b in set(itertools.combinations(regions, 2)):\n",
    "    data = [machine_region_dict[region_a].values, machine_region_dict[region_b].values]\n",
    "    try:\n",
    "        stat, p, dof, expected = chi2_contingency(data)\n",
    "        #print(region_a, \"vs \", region_b, \"has p:\",p)\n",
    "        #set the machine_df data\n",
    "        machine_df[region_a][region_b] = p\n",
    "    except:\n",
    "        print(region_a, region_b, \"were too small\")"
   ]
  },
  {
   "cell_type": "code",
   "execution_count": 73,
   "metadata": {},
   "outputs": [
    {
     "data": {
      "text/html": [
       "<div>\n",
       "<style scoped>\n",
       "    .dataframe tbody tr th:only-of-type {\n",
       "        vertical-align: middle;\n",
       "    }\n",
       "\n",
       "    .dataframe tbody tr th {\n",
       "        vertical-align: top;\n",
       "    }\n",
       "\n",
       "    .dataframe thead th {\n",
       "        text-align: right;\n",
       "    }\n",
       "</style>\n",
       "<table border=\"1\" class=\"dataframe\">\n",
       "  <thead>\n",
       "    <tr style=\"text-align: right;\">\n",
       "      <th></th>\n",
       "      <th>Europe</th>\n",
       "      <th>Middle East</th>\n",
       "      <th>North America</th>\n",
       "      <th>Oceania</th>\n",
       "      <th>South East Asia</th>\n",
       "      <th>Latin America</th>\n",
       "      <th>Africa</th>\n",
       "      <th>Central Asia</th>\n",
       "    </tr>\n",
       "  </thead>\n",
       "  <tbody>\n",
       "    <tr>\n",
       "      <th>Europe</th>\n",
       "      <td>NaN</td>\n",
       "      <td>NaN</td>\n",
       "      <td>NaN</td>\n",
       "      <td>NaN</td>\n",
       "      <td>NaN</td>\n",
       "      <td>NaN</td>\n",
       "      <td>NaN</td>\n",
       "      <td>NaN</td>\n",
       "    </tr>\n",
       "    <tr>\n",
       "      <th>Middle East</th>\n",
       "      <td>0.382948</td>\n",
       "      <td>NaN</td>\n",
       "      <td>NaN</td>\n",
       "      <td>NaN</td>\n",
       "      <td>NaN</td>\n",
       "      <td>NaN</td>\n",
       "      <td>NaN</td>\n",
       "      <td>NaN</td>\n",
       "    </tr>\n",
       "    <tr>\n",
       "      <th>North America</th>\n",
       "      <td>0.0</td>\n",
       "      <td>0.000062</td>\n",
       "      <td>NaN</td>\n",
       "      <td>NaN</td>\n",
       "      <td>NaN</td>\n",
       "      <td>NaN</td>\n",
       "      <td>NaN</td>\n",
       "      <td>NaN</td>\n",
       "    </tr>\n",
       "    <tr>\n",
       "      <th>Oceania</th>\n",
       "      <td>0.000081</td>\n",
       "      <td>NaN</td>\n",
       "      <td>0.779968</td>\n",
       "      <td>NaN</td>\n",
       "      <td>NaN</td>\n",
       "      <td>NaN</td>\n",
       "      <td>NaN</td>\n",
       "      <td>NaN</td>\n",
       "    </tr>\n",
       "    <tr>\n",
       "      <th>South East Asia</th>\n",
       "      <td>0.216581</td>\n",
       "      <td>0.056408</td>\n",
       "      <td>0.000238</td>\n",
       "      <td>0.002435</td>\n",
       "      <td>NaN</td>\n",
       "      <td>NaN</td>\n",
       "      <td>NaN</td>\n",
       "      <td>NaN</td>\n",
       "    </tr>\n",
       "    <tr>\n",
       "      <th>Latin America</th>\n",
       "      <td>0.000044</td>\n",
       "      <td>0.004362</td>\n",
       "      <td>0.106843</td>\n",
       "      <td>0.449329</td>\n",
       "      <td>0.021378</td>\n",
       "      <td>NaN</td>\n",
       "      <td>NaN</td>\n",
       "      <td>NaN</td>\n",
       "    </tr>\n",
       "    <tr>\n",
       "      <th>Africa</th>\n",
       "      <td>0.149486</td>\n",
       "      <td>0.054319</td>\n",
       "      <td>0.224736</td>\n",
       "      <td>0.332871</td>\n",
       "      <td>0.160286</td>\n",
       "      <td>0.806063</td>\n",
       "      <td>NaN</td>\n",
       "      <td>NaN</td>\n",
       "    </tr>\n",
       "    <tr>\n",
       "      <th>Central Asia</th>\n",
       "      <td>0.103675</td>\n",
       "      <td>NaN</td>\n",
       "      <td>0.449126</td>\n",
       "      <td>NaN</td>\n",
       "      <td>0.043402</td>\n",
       "      <td>0.759113</td>\n",
       "      <td>0.688436</td>\n",
       "      <td>NaN</td>\n",
       "    </tr>\n",
       "  </tbody>\n",
       "</table>\n",
       "</div>"
      ],
      "text/plain": [
       "                   Europe Middle East North America   Oceania South East Asia  \\\n",
       "Europe                NaN         NaN           NaN       NaN             NaN   \n",
       "Middle East      0.382948         NaN           NaN       NaN             NaN   \n",
       "North America         0.0    0.000062           NaN       NaN             NaN   \n",
       "Oceania          0.000081         NaN      0.779968       NaN             NaN   \n",
       "South East Asia  0.216581    0.056408      0.000238  0.002435             NaN   \n",
       "Latin America    0.000044    0.004362      0.106843  0.449329        0.021378   \n",
       "Africa           0.149486    0.054319      0.224736  0.332871        0.160286   \n",
       "Central Asia     0.103675         NaN      0.449126       NaN        0.043402   \n",
       "\n",
       "                Latin America    Africa Central Asia  \n",
       "Europe                    NaN       NaN          NaN  \n",
       "Middle East               NaN       NaN          NaN  \n",
       "North America             NaN       NaN          NaN  \n",
       "Oceania                   NaN       NaN          NaN  \n",
       "South East Asia           NaN       NaN          NaN  \n",
       "Latin America             NaN       NaN          NaN  \n",
       "Africa               0.806063       NaN          NaN  \n",
       "Central Asia         0.759113  0.688436          NaN  "
      ]
     },
     "execution_count": 73,
     "metadata": {},
     "output_type": "execute_result"
    }
   ],
   "source": [
    "machine_df"
   ]
  },
  {
   "cell_type": "code",
   "execution_count": 80,
   "metadata": {},
   "outputs": [
    {
     "data": {
      "text/plain": [
       "list"
      ]
     },
     "execution_count": 80,
     "metadata": {},
     "output_type": "execute_result"
    }
   ],
   "source": [
    "machine_region_values = [[value] for value in machine_region_dict.values()]\n",
    "type(machine_region_values)"
   ]
  },
  {
   "cell_type": "code",
   "execution_count": 82,
   "metadata": {},
   "outputs": [
    {
     "data": {
      "text/plain": [
       "KruskalResult(statistic=array([7., 7., 7.]), pvalue=array([0.42887986, 0.42887986, 0.42887986]))"
      ]
     },
     "execution_count": 82,
     "metadata": {},
     "output_type": "execute_result"
    }
   ],
   "source": [
    "from scipy import stats\n",
    "stats.kruskal(*machine_region_values)"
   ]
  },
  {
   "cell_type": "code",
   "execution_count": 97,
   "metadata": {},
   "outputs": [
    {
     "name": "stdout",
     "output_type": "stream",
     "text": [
      "Europe p= 1.0712642393842817e-17\n",
      "Middle East p= 0.22372283295741396\n",
      "North America p= 0.9987479730822683\n",
      "Oceania p= 0.9999999421337278\n",
      "South East Asia p= 0.8968704041429194\n",
      "Latin America p= 0.586604848350726\n",
      "Africa p= 0.9999993619776829\n",
      "Central Asia p= 0.9999999421337278\n"
     ]
    }
   ],
   "source": [
    "#https://docs.scipy.org/doc/scipy/reference/generated/scipy.stats.binom_test.html\n",
    "\n",
    "# Check if the expected value of Chainsaws applications in Europe is greater than expected with random distribution (or equal parts )\n",
    "for region in regions:\n",
    "    print(region, \"p=\",stats.binom_test(machine_region_dict[region][\"Chainsaw\"], n = len(chi_test_data.loc[chi_test_data[\"Region\"]==\"Europe\"]), p=0.125, alternative=\"greater\"))"
   ]
  }
 ],
 "metadata": {
  "kernelspec": {
   "display_name": "Python 3.10.4 ('wood_venv': venv)",
   "language": "python",
   "name": "python3"
  },
  "language_info": {
   "codemirror_mode": {
    "name": "ipython",
    "version": 3
   },
   "file_extension": ".py",
   "mimetype": "text/x-python",
   "name": "python",
   "nbconvert_exporter": "python",
   "pygments_lexer": "ipython3",
   "version": "3.10.4"
  },
  "orig_nbformat": 4,
  "vscode": {
   "interpreter": {
    "hash": "dd3223f6783bc8db6765a00e8d3053e12192b0fa65be1292c94e5420531c1b2c"
   }
  }
 },
 "nbformat": 4,
 "nbformat_minor": 2
}
