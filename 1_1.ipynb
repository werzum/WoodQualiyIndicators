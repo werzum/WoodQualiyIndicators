{
 "cells": [
  {
   "cell_type": "code",
   "execution_count": 63,
   "metadata": {},
   "outputs": [],
   "source": [
    "# Loading data\n",
    "import csv\n",
    "import pandas as pd\n",
    "import numpy as np\n",
    "import helper_functions\n",
    "\n",
    "from tabulate import tabulate\n",
    "\n",
    "table_1_1 = helper_functions.import_file(\"1_1.csv\")"
   ]
  },
  {
   "cell_type": "code",
   "execution_count": 64,
   "metadata": {},
   "outputs": [
    {
     "data": {
      "text/html": [
       "<table>\n",
       "<thead>\n",
       "<tr><th style=\"text-align: right;\">  Year</th><th style=\"text-align: right;\">  Count</th></tr>\n",
       "</thead>\n",
       "<tbody>\n",
       "<tr><td style=\"text-align: right;\">  2017</td><td style=\"text-align: right;\">     49</td></tr>\n",
       "<tr><td style=\"text-align: right;\">  2018</td><td style=\"text-align: right;\">     66</td></tr>\n",
       "<tr><td style=\"text-align: right;\">  2019</td><td style=\"text-align: right;\">     56</td></tr>\n",
       "<tr><td style=\"text-align: right;\">  2020</td><td style=\"text-align: right;\">     91</td></tr>\n",
       "<tr><td style=\"text-align: right;\">  2021</td><td style=\"text-align: right;\">     71</td></tr>\n",
       "</tbody>\n",
       "</table>"
      ],
      "text/plain": [
       "'<table>\\n<thead>\\n<tr><th style=\"text-align: right;\">  Year</th><th style=\"text-align: right;\">  Count</th></tr>\\n</thead>\\n<tbody>\\n<tr><td style=\"text-align: right;\">  2017</td><td style=\"text-align: right;\">     49</td></tr>\\n<tr><td style=\"text-align: right;\">  2018</td><td style=\"text-align: right;\">     66</td></tr>\\n<tr><td style=\"text-align: right;\">  2019</td><td style=\"text-align: right;\">     56</td></tr>\\n<tr><td style=\"text-align: right;\">  2020</td><td style=\"text-align: right;\">     91</td></tr>\\n<tr><td style=\"text-align: right;\">  2021</td><td style=\"text-align: right;\">     71</td></tr>\\n</tbody>\\n</table>'"
      ]
     },
     "execution_count": 64,
     "metadata": {},
     "output_type": "execute_result"
    }
   ],
   "source": [
    "tabulate(table_1_1, headers='keys', tablefmt='html', showindex=False)"
   ]
  },
  {
   "cell_type": "code",
   "execution_count": 67,
   "metadata": {},
   "outputs": [
    {
     "data": {
      "text/html": [
       "<table>\n",
       "<thead>\n",
       "<tr><th style=\"text-align: right;\">  2017</th><th style=\"text-align: right;\">  2018</th><th style=\"text-align: right;\">  2019</th><th style=\"text-align: right;\">  2020</th><th style=\"text-align: right;\">  2021</th></tr>\n",
       "</thead>\n",
       "<tbody>\n",
       "<tr><td style=\"text-align: right;\">    49</td><td style=\"text-align: right;\">    66</td><td style=\"text-align: right;\">    56</td><td style=\"text-align: right;\">    91</td><td style=\"text-align: right;\">    71</td></tr>\n",
       "</tbody>\n",
       "</table>"
      ],
      "text/plain": [
       "'<table>\\n<thead>\\n<tr><th style=\"text-align: right;\">  2017</th><th style=\"text-align: right;\">  2018</th><th style=\"text-align: right;\">  2019</th><th style=\"text-align: right;\">  2020</th><th style=\"text-align: right;\">  2021</th></tr>\\n</thead>\\n<tbody>\\n<tr><td style=\"text-align: right;\">    49</td><td style=\"text-align: right;\">    66</td><td style=\"text-align: right;\">    56</td><td style=\"text-align: right;\">    91</td><td style=\"text-align: right;\">    71</td></tr>\\n</tbody>\\n</table>'"
      ]
     },
     "execution_count": 67,
     "metadata": {},
     "output_type": "execute_result"
    }
   ],
   "source": [
    "table_1_1_rotate = table_1_1.set_index(\"Year\")\n",
    "table_1_1_rotate = table_1_1_rotate.transpose()\n",
    "#table_1_1[\"Year\"] = [\"Studien Pro Jahr\"]\n",
    "\n",
    "tabulate(table_1_1_rotate, headers='keys', tablefmt='html', showindex=False)"
   ]
  }
 ],
 "metadata": {
  "kernelspec": {
   "display_name": "wood_kernel",
   "language": "python",
   "name": "wood_kernel"
  },
  "language_info": {
   "codemirror_mode": {
    "name": "ipython",
    "version": 3
   },
   "file_extension": ".py",
   "mimetype": "text/x-python",
   "name": "python",
   "nbconvert_exporter": "python",
   "pygments_lexer": "ipython3",
   "version": "3.10.4"
  },
  "orig_nbformat": 4,
  "vscode": {
   "interpreter": {
    "hash": "916dbcbb3f70747c44a77c7bcd40155683ae19c65e1c03b4aa3499c5328201f1"
   }
  }
 },
 "nbformat": 4,
 "nbformat_minor": 2
}
