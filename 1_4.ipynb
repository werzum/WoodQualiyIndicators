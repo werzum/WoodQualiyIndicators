{
 "cells": [
  {
   "cell_type": "code",
   "execution_count": 1,
   "metadata": {},
   "outputs": [],
   "source": [
    "# Loading data\n",
    "import csv\n",
    "import pandas as pd\n",
    "import numpy as np\n",
    "import helper_functions\n",
    "\n",
    "from tabulate import tabulate\n",
    "\n",
    "table_1_4 = helper_functions.import_file(\"1_4.csv\")"
   ]
  },
  {
   "cell_type": "code",
   "execution_count": 3,
   "metadata": {},
   "outputs": [
    {
     "data": {
      "text/html": [
       "<table>\n",
       "<thead>\n",
       "<tr><th>Type         </th><th style=\"text-align: right;\">  Count</th></tr>\n",
       "</thead>\n",
       "<tbody>\n",
       "<tr><td>Case Study   </td><td style=\"text-align: right;\">    276</td></tr>\n",
       "<tr><td>Theoretical  </td><td style=\"text-align: right;\">     23</td></tr>\n",
       "<tr><td>LCA          </td><td style=\"text-align: right;\">     16</td></tr>\n",
       "<tr><td>Experimental </td><td style=\"text-align: right;\">     10</td></tr>\n",
       "<tr><td>Review       </td><td style=\"text-align: right;\">      5</td></tr>\n",
       "<tr><td>Interview    </td><td style=\"text-align: right;\">      2</td></tr>\n",
       "<tr><td>Meta-Analysis</td><td style=\"text-align: right;\">      2</td></tr>\n",
       "</tbody>\n",
       "</table>"
      ],
      "text/plain": [
       "'<table>\\n<thead>\\n<tr><th>Type         </th><th style=\"text-align: right;\">  Count</th></tr>\\n</thead>\\n<tbody>\\n<tr><td>Case Study   </td><td style=\"text-align: right;\">    276</td></tr>\\n<tr><td>Theoretical  </td><td style=\"text-align: right;\">     23</td></tr>\\n<tr><td>LCA          </td><td style=\"text-align: right;\">     16</td></tr>\\n<tr><td>Experimental </td><td style=\"text-align: right;\">     10</td></tr>\\n<tr><td>Review       </td><td style=\"text-align: right;\">      5</td></tr>\\n<tr><td>Interview    </td><td style=\"text-align: right;\">      2</td></tr>\\n<tr><td>Meta-Analysis</td><td style=\"text-align: right;\">      2</td></tr>\\n</tbody>\\n</table>'"
      ]
     },
     "execution_count": 3,
     "metadata": {},
     "output_type": "execute_result"
    }
   ],
   "source": [
    "tabulate(table_1_4, headers='keys', tablefmt='html', showindex=False)"
   ]
  },
  {
   "cell_type": "code",
   "execution_count": 6,
   "metadata": {},
   "outputs": [
    {
     "data": {
      "text/html": [
       "<table>\n",
       "<thead>\n",
       "<tr><th style=\"text-align: right;\">  Case Study</th><th style=\"text-align: right;\">  Theoretical</th><th style=\"text-align: right;\">  LCA</th><th style=\"text-align: right;\">  Experimental</th><th style=\"text-align: right;\">  Review</th><th style=\"text-align: right;\">  Interview</th><th style=\"text-align: right;\">  Meta-Analysis</th></tr>\n",
       "</thead>\n",
       "<tbody>\n",
       "<tr><td style=\"text-align: right;\">         276</td><td style=\"text-align: right;\">           23</td><td style=\"text-align: right;\">   16</td><td style=\"text-align: right;\">            10</td><td style=\"text-align: right;\">       5</td><td style=\"text-align: right;\">          2</td><td style=\"text-align: right;\">              2</td></tr>\n",
       "</tbody>\n",
       "</table>"
      ],
      "text/plain": [
       "'<table>\\n<thead>\\n<tr><th style=\"text-align: right;\">  Case Study</th><th style=\"text-align: right;\">  Theoretical</th><th style=\"text-align: right;\">  LCA</th><th style=\"text-align: right;\">  Experimental</th><th style=\"text-align: right;\">  Review</th><th style=\"text-align: right;\">  Interview</th><th style=\"text-align: right;\">  Meta-Analysis</th></tr>\\n</thead>\\n<tbody>\\n<tr><td style=\"text-align: right;\">         276</td><td style=\"text-align: right;\">           23</td><td style=\"text-align: right;\">   16</td><td style=\"text-align: right;\">            10</td><td style=\"text-align: right;\">       5</td><td style=\"text-align: right;\">          2</td><td style=\"text-align: right;\">              2</td></tr>\\n</tbody>\\n</table>'"
      ]
     },
     "execution_count": 6,
     "metadata": {},
     "output_type": "execute_result"
    }
   ],
   "source": [
    "table_1_4_rotate = table_1_4.set_index(\"Type\")\n",
    "table_1_4_rotate = table_1_4_rotate.transpose()\n",
    "\n",
    "tabulate(table_1_4_rotate, headers='keys', tablefmt='html', showindex=False)"
   ]
  }
 ],
 "metadata": {
  "kernelspec": {
   "display_name": "wood_kernel",
   "language": "python",
   "name": "wood_kernel"
  },
  "language_info": {
   "codemirror_mode": {
    "name": "ipython",
    "version": 3
   },
   "file_extension": ".py",
   "mimetype": "text/x-python",
   "name": "python",
   "nbconvert_exporter": "python",
   "pygments_lexer": "ipython3",
   "version": "3.10.4"
  },
  "orig_nbformat": 4
 },
 "nbformat": 4,
 "nbformat_minor": 2
}
